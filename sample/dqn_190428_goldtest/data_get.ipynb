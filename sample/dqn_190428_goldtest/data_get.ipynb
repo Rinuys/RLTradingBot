{
 "cells": [
  {
   "cell_type": "code",
   "execution_count": null,
   "metadata": {},
   "outputs": [
    {
     "data": {
      "text/html": [
       "<div>\n",
       "<style scoped>\n",
       "    .dataframe tbody tr th:only-of-type {\n",
       "        vertical-align: middle;\n",
       "    }\n",
       "\n",
       "    .dataframe tbody tr th {\n",
       "        vertical-align: top;\n",
       "    }\n",
       "\n",
       "    .dataframe thead th {\n",
       "        text-align: right;\n",
       "    }\n",
       "</style>\n",
       "<table border=\"1\" class=\"dataframe\">\n",
       "  <thead>\n",
       "    <tr style=\"text-align: right;\">\n",
       "      <th></th>\n",
       "      <th>종가</th>\n",
       "      <th>거래량(g)</th>\n",
       "      <th>시가</th>\n",
       "      <th>고가</th>\n",
       "      <th>저가</th>\n",
       "    </tr>\n",
       "    <tr>\n",
       "      <th>년/월/일</th>\n",
       "      <th></th>\n",
       "      <th></th>\n",
       "      <th></th>\n",
       "      <th></th>\n",
       "      <th></th>\n",
       "    </tr>\n",
       "  </thead>\n",
       "  <tbody>\n",
       "    <tr>\n",
       "      <th>2014/03/28</th>\n",
       "      <td>44,950</td>\n",
       "      <td>2,663</td>\n",
       "      <td>45,020</td>\n",
       "      <td>45,100</td>\n",
       "      <td>44,500</td>\n",
       "    </tr>\n",
       "    <tr>\n",
       "      <th>2014/03/27</th>\n",
       "      <td>45,540</td>\n",
       "      <td>2,197</td>\n",
       "      <td>45,800</td>\n",
       "      <td>45,820</td>\n",
       "      <td>45,540</td>\n",
       "    </tr>\n",
       "    <tr>\n",
       "      <th>2014/03/26</th>\n",
       "      <td>46,060</td>\n",
       "      <td>3,074</td>\n",
       "      <td>46,100</td>\n",
       "      <td>46,100</td>\n",
       "      <td>46,000</td>\n",
       "    </tr>\n",
       "    <tr>\n",
       "      <th>2014/03/25</th>\n",
       "      <td>46,230</td>\n",
       "      <td>4,190</td>\n",
       "      <td>46,400</td>\n",
       "      <td>46,420</td>\n",
       "      <td>46,000</td>\n",
       "    </tr>\n",
       "    <tr>\n",
       "      <th>2014/03/24</th>\n",
       "      <td>46,950</td>\n",
       "      <td>5,978</td>\n",
       "      <td>46,950</td>\n",
       "      <td>47,400</td>\n",
       "      <td>46,730</td>\n",
       "    </tr>\n",
       "  </tbody>\n",
       "</table>\n",
       "</div>"
      ],
      "text/plain": [
       "                종가 거래량(g)      시가      고가      저가\n",
       "년/월/일                                            \n",
       "2014/03/28  44,950  2,663  45,020  45,100  44,500\n",
       "2014/03/27  45,540  2,197  45,800  45,820  45,540\n",
       "2014/03/26  46,060  3,074  46,100  46,100  46,000\n",
       "2014/03/25  46,230  4,190  46,400  46,420  46,000\n",
       "2014/03/24  46,950  5,978  46,950  47,400  46,730"
      ]
     },
     "execution_count": 8,
     "metadata": {},
     "output_type": "execute_result"
    }
   ],
   "source": [
    "import pandas as pd\n",
    "import pickle\n",
    "\n",
    "file_path='/Users/jeonghan/Documents/RLTradingBot/gold_daily_data/gold_krx_1000.csv'\n",
    "\n",
    "col = ['년/월/일','종가','시가','고가','저가','거래량(g)']\n",
    "mdata = pd.read_csv(file_path, index_col='년/월/일',usecols=col)\n",
    "mdata.tail()\n",
    "\n"
   ]
  },
  {
   "cell_type": "code",
   "execution_count": null,
   "metadata": {},
   "outputs": [],
   "source": []
  }
 ],
 "metadata": {
  "kernelspec": {
   "display_name": "Python 3",
   "language": "python",
   "name": "python3"
  },
  "language_info": {
   "codemirror_mode": {
    "name": "ipython",
    "version": 3
   },
   "file_extension": ".py",
   "mimetype": "text/x-python",
   "name": "python",
   "nbconvert_exporter": "python",
   "pygments_lexer": "ipython3",
   "version": "3.6.8"
  }
 },
 "nbformat": 4,
 "nbformat_minor": 2
}
